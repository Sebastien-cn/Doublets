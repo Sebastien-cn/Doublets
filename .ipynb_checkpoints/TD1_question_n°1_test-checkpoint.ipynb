{
 "cells": [
  {
   "cell_type": "markdown",
   "id": "843b13ee",
   "metadata": {},
   "source": [
    "# Recherche de la deuxième paire la plus grande\n",
    "# Date:18/10/2023\n",
    "# Auteur : Sébastien CNIGNIET  N° étudiant :23001930    "
   ]
  },
  {
   "cell_type": "code",
   "execution_count": 3,
   "id": "2424aacd",
   "metadata": {},
   "outputs": [],
   "source": [
    "# Création et remplissage de la liste avec des paires\n",
    "list = []\n",
    "list.append((0,1))\n",
    "list.append((3,4))\n",
    "list.append((1,2))\n",
    "list.append((3,1))"
   ]
  },
  {
   "cell_type": "code",
   "execution_count": 4,
   "id": "e2a92070",
   "metadata": {},
   "outputs": [],
   "source": [
    "# Déclaration des varriables\n",
    "k = 0\n",
    "i = 1\n",
    "# Division des paires\n",
    "x,y = list[k]\n",
    "z,t = list[i]\n",
    "\n"
   ]
  },
  {
   "cell_type": "code",
   "execution_count": 5,
   "id": "829049e7",
   "metadata": {},
   "outputs": [],
   "source": [
    "# Création d'une liste pour contenir les paires les plus grandes\n",
    "listPlusGrand = []"
   ]
  },
  {
   "cell_type": "code",
   "execution_count": 6,
   "id": "a5b916b0",
   "metadata": {},
   "outputs": [],
   "source": [
    "# Recherche des paire les plus grandes\n",
    "# Boucle pour le passage sur chaque paire\n",
    "while i <= len(list)-1:    \n",
    "    if list[k] < list[i] :\n",
    "        if x < z :            \n",
    "            listPlusGrand.append (list[i])\n",
    "        else:            \n",
    "            listPlusGrand.append (list[K])\n",
    "    # incrémentation de 1 de k et de i\n",
    "    k+=1\n",
    "    i+=1     "
   ]
  },
  {
   "cell_type": "code",
   "execution_count": 7,
   "id": "f68c0002",
   "metadata": {},
   "outputs": [
    {
     "name": "stdout",
     "output_type": "stream",
     "text": [
      "La deuxième paire la plus grande est (3, 1)\n"
     ]
    }
   ],
   "source": [
    "\n",
    "# Réinitialisation des varriables\n",
    "k = 0\n",
    "i = 1\n",
    "# Division des paires\n",
    "x,y = listPlusGrand[k]\n",
    "z,t = listPlusGrand[i]\n",
    "# Recherche de la deuxième paire la plus grande\n",
    "if x == z and y < t:\n",
    "    print (\"La deuxième paire la plus grande est\",listPlusGrand[k])\n",
    "else:\n",
    "    print (\"La deuxième paire la plus grande est\",listPlusGrand[i])       "
   ]
  },
  {
   "cell_type": "code",
   "execution_count": null,
   "id": "b2d86590",
   "metadata": {},
   "outputs": [],
   "source": []
  }
 ],
 "metadata": {
  "kernelspec": {
   "display_name": "Python 3 (ipykernel)",
   "language": "python",
   "name": "python3"
  },
  "language_info": {
   "codemirror_mode": {
    "name": "ipython",
    "version": 3
   },
   "file_extension": ".py",
   "mimetype": "text/x-python",
   "name": "python",
   "nbconvert_exporter": "python",
   "pygments_lexer": "ipython3",
   "version": "3.11.5"
  }
 },
 "nbformat": 4,
 "nbformat_minor": 5
}
