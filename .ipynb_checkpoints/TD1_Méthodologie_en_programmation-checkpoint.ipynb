{
 "cells": [
  {
   "cell_type": "markdown",
   "id": "ee86ec69",
   "metadata": {},
   "source": [
    "Auteur : Sébastien CNIGNIET  N° étudiant :23001930 "
   ]
  },
  {
   "cell_type": "markdown",
   "id": "f9b9a4bd",
   "metadata": {},
   "source": [
    " TP1 \n",
    " Question 1 : Recherche de la deuxième paire la plus grande\n",
    " Date:18/10/2023    "
   ]
  },
  {
   "cell_type": "code",
   "execution_count": 23,
   "id": "2aee2f41",
   "metadata": {},
   "outputs": [],
   "source": [
    "# Fonction pose une question à l'utilisateur\n",
    "def demande(message):  \n",
    "    question = input(message)\n",
    "    return question "
   ]
  },
  {
   "cell_type": "code",
   "execution_count": 24,
   "id": "3fb8023e",
   "metadata": {},
   "outputs": [],
   "source": [
    "# Fonction demande pour ajouter les nombres pour faire les paire  \n",
    "def saisieValeur(message):\n",
    "    try:\n",
    "        question = int(input(message))\n",
    "    except:\n",
    "        print(\"Veuillez saisir une valeur numérique\")\n",
    "        question = int(input(message))\n",
    "    return (question)"
   ]
  },
  {
   "cell_type": "code",
   "execution_count": 25,
   "id": "bbe83d65",
   "metadata": {},
   "outputs": [],
   "source": [
    "def remplirListe():\n",
    "    # Création des paires et remplissage de la liste\n",
    "    # Création de la liste\n",
    "    list = []\n",
    "    # Demande à l'utilisateur s'il souhaite ajouter une paire\n",
    "    question = demande(\"Souhaitez-vous ajouter une paire [O/N]:\")\n",
    "    # Boucle tantque question n'est pas vide \n",
    "    while question != None:\n",
    "        # Si question = \"O\" on peut remplir list\n",
    "        if question == 'O' or question == 'o':\n",
    "            # Remplir la list    \n",
    "            # Boucle pour créer les paires et remplir la liste\n",
    "            while question == 'O' or question == 'o':            \n",
    "                # Saisie des valeurs pour faire les paires\n",
    "                premiereValeur = saisieValeur(\"Saisissez la première valeur:\")         \n",
    "                deuxiemeValeur = saisieValeur(\"Saisissez la dexième valeur:\")            \n",
    "                # Création des paire et remplissage de la liste\n",
    "                list.append((premiereValeur,deuxiemeValeur))            \n",
    "                # Demande à l'utilisateur s'il souhaite ajouter une paire\n",
    "                question = demande(\"Souhaitez-vous ajouter une paire [O/N]:\")            \n",
    "                # Verrifie si il y a au minimum 3 paires avant de quitter la saisie\n",
    "                if question == 'N' or question == 'n': \n",
    "                    if len(list) < 3:\n",
    "                        print(\"Veuillez saisir au moins 3 paires!\")\n",
    "                        # Demande à l'utilisateur s'il souhaite ajouter une paire\n",
    "                        question = demande(\"Souhaitez-vous ajouter une paire [O/N]:\") \n",
    "                else:\n",
    "                    # On continu la boucle\n",
    "                    break\n",
    "        # si question = 'N', on verrifie qu'il y a un minimum de 3 paires pour quitter la saisie            \n",
    "        elif question == 'N' or question == 'n':\n",
    "            # Verrifie si il y a au minimum 3 paires avant de quitter la saisie\n",
    "            if len(list) < 3:\n",
    "                print(\"Veuillez saisir au moins 3 paires!\")\n",
    "                # Demande à l'utilisateur s'il souhaite ajouter une paire\n",
    "                question = demande(\"Souhaitez-vous ajouter une paire [O/N]:\")\n",
    "            else:\n",
    "                # on continu la boucle\n",
    "                break\n",
    "        else:\n",
    "            # Vérrifie que question n'est pas différent de 'O' ou 'N'\n",
    "            print(\"Veuillez saisir O pour oui ou N pour non\")\n",
    "            # Demande à l'utilisateur s'il souhaite ajouter une paire\n",
    "            question = demande(\"Souhaitez-vous ajouter une paire [O/N]:\") \n",
    "    return (list)"
   ]
  },
  {
   "cell_type": "code",
   "execution_count": 26,
   "id": "d589df9e",
   "metadata": {},
   "outputs": [
    {
     "name": "stdout",
     "output_type": "stream",
     "text": [
      "Souhaitez-vous ajouter une paire [O/N]:o\n",
      "Saisissez la première valeur:2\n",
      "Saisissez la dexième valeur:3\n",
      "Souhaitez-vous ajouter une paire [O/N]:o\n",
      "Saisissez la première valeur:2\n",
      "Saisissez la dexième valeur:1\n",
      "Souhaitez-vous ajouter une paire [O/N]:o\n",
      "Saisissez la première valeur:9\n",
      "Saisissez la dexième valeur:0\n",
      "Souhaitez-vous ajouter une paire [O/N]:n\n",
      "[[(2, 3), (2, 1), (9, 0)]]\n"
     ]
    }
   ],
   "source": [
    "# Création de la première liste  \n",
    "list = []\n",
    "list = (remplirListe())\n",
    "# Préparation question n°2 . Création de la liste principal et incertion de la première liste\n",
    "listePrincipale = []\n",
    "listePrincipale.append(list)\n",
    "print(listePrincipale)"
   ]
  },
  {
   "cell_type": "code",
   "execution_count": 27,
   "id": "c6b7fe76",
   "metadata": {},
   "outputs": [],
   "source": [
    "# Déclaration des varriables\n",
    "k = 0\n",
    "i = 1"
   ]
  },
  {
   "cell_type": "code",
   "execution_count": 28,
   "id": "8b5ed8e6",
   "metadata": {},
   "outputs": [
    {
     "name": "stdout",
     "output_type": "stream",
     "text": [
      "(2, 3)\n",
      "[[(2, 3), (9, 0)]]\n"
     ]
    }
   ],
   "source": [
    "# Recherche des paire les plus grandes\n",
    "# Boucle pour le passage sur chaque paire\n",
    "while i <= len(list)-1: \n",
    "    \n",
    "    # Division des paires\n",
    "    x,y = list[k]\n",
    "    z,t = list[i]\n",
    "    # comparaison des deux premières valeur de deux paires\n",
    "    if x < z or x == z and y < t :\n",
    "        # supprime la paires la plus petite dans list\n",
    "        list.remove (list[k])\n",
    "    else:\n",
    "        # supprime la paires la plus petite dans list\n",
    "        list.remove (list[i]) \n",
    "    # incrémentation de 1 de k et de i\n",
    "    k+=1\n",
    "    i+=1 \n",
    "print (min (list))\n"
   ]
  },
  {
   "cell_type": "markdown",
   "id": "bbca5d9c",
   "metadata": {},
   "source": [
    "TP1 Question 2 : Ecrire une fonction qui extrait les paires communes à toutes les listes Date:18/10/2023"
   ]
  },
  {
   "cell_type": "code",
   "execution_count": 21,
   "id": "55ab6de8",
   "metadata": {},
   "outputs": [
    {
     "ename": "IndentationError",
     "evalue": "unindent does not match any outer indentation level (<tokenize>, line 14)",
     "output_type": "error",
     "traceback": [
      "\u001b[1;36m  File \u001b[1;32m<tokenize>:14\u001b[1;36m\u001b[0m\n\u001b[1;33m    print(\"Saisie de la sous-liste N° \",k + 1)\u001b[0m\n\u001b[1;37m    ^\u001b[0m\n\u001b[1;31mIndentationError\u001b[0m\u001b[1;31m:\u001b[0m unindent does not match any outer indentation level\n"
     ]
    }
   ],
   "source": [
    "k = 0\n",
    "\n",
    "# Demande à l'utilisateur le nombre de sous-liste\n",
    "try:\n",
    "    nbSousList = int(input(\"Combien de sous liste souhaitez vous saisir? \"))\n",
    "except:\n",
    "    print(\"veuillez saisir une valeur numérique, merci ! \")\n",
    "    nbSousList = int(input(\"Combien de sous liste souhaitez vous saisir? \"))\n",
    "# Création de sous-liste\n",
    "    sousList = []\n",
    "#Boucle pour la création des sous-listes\n",
    "while k < nbSousList :\n",
    "     sousList.clear()\n",
    "    print(\"Saisie de la sous-liste N° \",k + 1)\n",
    "    # Création des sous-liste    \n",
    "    sousList = (remplirListe())\n",
    "    # Incertion de la sous-liste dans la liste principale \n",
    "    listePrincipale.append(sousList)   \n",
    "    k += 1\n",
    "   \n",
    "    \n",
    "print(listePrincipale)"
   ]
  },
  {
   "cell_type": "code",
   "execution_count": null,
   "id": "99c81247",
   "metadata": {},
   "outputs": [],
   "source": []
  },
  {
   "cell_type": "code",
   "execution_count": null,
   "id": "4a38b133",
   "metadata": {},
   "outputs": [],
   "source": []
  }
 ],
 "metadata": {
  "kernelspec": {
   "display_name": "Python 3 (ipykernel)",
   "language": "python",
   "name": "python3"
  },
  "language_info": {
   "codemirror_mode": {
    "name": "ipython",
    "version": 3
   },
   "file_extension": ".py",
   "mimetype": "text/x-python",
   "name": "python",
   "nbconvert_exporter": "python",
   "pygments_lexer": "ipython3",
   "version": "3.11.5"
  }
 },
 "nbformat": 4,
 "nbformat_minor": 5
}
