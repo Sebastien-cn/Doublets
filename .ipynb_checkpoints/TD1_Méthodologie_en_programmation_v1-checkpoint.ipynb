{
 "cells": [
  {
   "cell_type": "markdown",
   "id": "ee86ec69",
   "metadata": {},
   "source": [
    "- Nom:  CNIGNIET\n",
    "- Prénom: Sébastien\n",
    "- N° étudiant: 23001930\n",
    "- Date: 13/11/2023 "
   ]
  },
  {
   "cell_type": "markdown",
   "id": "f9b9a4bd",
   "metadata": {},
   "source": [
    "# TP1 Question 1 : Recherche de la deuxième paire la plus grande   "
   ]
  },
  {
   "cell_type": "markdown",
   "id": "0efc28c4",
   "metadata": {},
   "source": [
    "Fonction demande pour ajouter les nombres enfin de créer les paires  "
   ]
  },
  {
   "cell_type": "code",
   "execution_count": null,
   "id": "3fb8023e",
   "metadata": {},
   "outputs": [],
   "source": [
    "def saisieValeur(message):\n",
    "    try:\n",
    "        question = int(input(message))\n",
    "    except:\n",
    "        print(\"Veuillez saisir une valeur numérique\")\n",
    "        question = saisieValeur(message)\n",
    "    return (question)"
   ]
  },
  {
   "cell_type": "markdown",
   "id": "ba19a03a",
   "metadata": {},
   "source": [
    "Création des listes list et sousListe1"
   ]
  },
  {
   "cell_type": "code",
   "execution_count": null,
   "id": "a72fcd39",
   "metadata": {},
   "outputs": [],
   "source": [
    "# Création de la liste pour la question N°1\n",
    "list=[]\n",
    "# Création de la première sous-liste pour la question N°2 \n",
    "sousListe1 = []"
   ]
  },
  {
   "cell_type": "markdown",
   "id": "5ae7f4f2",
   "metadata": {},
   "source": [
    "Création des paires et remplir les liste list et sousListe1"
   ]
  },
  {
   "cell_type": "code",
   "execution_count": null,
   "id": "bbe83d65",
   "metadata": {
    "scrolled": true
   },
   "outputs": [],
   "source": [
    "# Demande à l'utilisateur le nombre de sous-liste qu'il souhaite saisir\n",
    "nbPaires = saisieValeur(\"Combien de paires voulez vous saisir ? \")\n",
    "k = 0\n",
    "# Boucle pour créer les paires\n",
    "while k < nbPaires:               \n",
    "    # Saisie des valeurs pour la création des paires\n",
    "    premiereValeur = saisieValeur(\"Saisissez une valeur numérique :\") \n",
    "    deuxiemeValeur = saisieValeur(\"Saisissez une valeur numérique :\") \n",
    "    # Création des paires et insertion de celle-ci dans list\n",
    "    list.append((premiereValeur,deuxiemeValeur))\n",
    "    # Création des paires et insertion de celle-ci dans première sous-liste pour la question N°2 \n",
    "    sousListe1.append((premiereValeur,deuxiemeValeur))\n",
    "    # incrémentation de 1 de la variable k\n",
    "    k += 1"
   ]
  },
  {
   "cell_type": "markdown",
   "id": "24a3a034",
   "metadata": {},
   "source": [
    "Recherche et affichage de la deuxième paire la plus grande"
   ]
  },
  {
   "cell_type": "code",
   "execution_count": null,
   "id": "8b5ed8e6",
   "metadata": {},
   "outputs": [],
   "source": [
    "k = 0\n",
    "i = 1\n",
    "# Recherche des paire les plus grandes\n",
    "while i <= len(list)-1:    \n",
    "    # Division des paires\n",
    "    x,y = list[k]\n",
    "    z,t = list[i]\n",
    "    # comparaison des deux premières valeur de deux paires\n",
    "    if x < z or x == z and y < t :\n",
    "        # supprime la paires la plus petite dans list\n",
    "        list.remove (list[k])\n",
    "    else:\n",
    "        # supprime la paires la plus petite dans list\n",
    "        list.remove (list[i])     \n",
    "    k+=1\n",
    "    i+=1 \n",
    "# Affichage de la deuxième paire la plus grande\n",
    "print (min (list))"
   ]
  },
  {
   "cell_type": "markdown",
   "id": "8fec6f51",
   "metadata": {},
   "source": [
    "# TP1 Question 2 : Ecrire une fonction qui extrait les paires communes à toutes les listes "
   ]
  },
  {
   "cell_type": "markdown",
   "id": "9700459c",
   "metadata": {},
   "source": [
    "Création de listePrincipale"
   ]
  },
  {
   "cell_type": "code",
   "execution_count": null,
   "id": "f9df51b9",
   "metadata": {},
   "outputs": [],
   "source": [
    "listePrincipale = []"
   ]
  },
  {
   "cell_type": "markdown",
   "id": "12c6dee5",
   "metadata": {},
   "source": [
    "Créer les paires et remplir la liste listePrincipale"
   ]
  },
  {
   "cell_type": "code",
   "execution_count": null,
   "id": "d3c5d1ce",
   "metadata": {},
   "outputs": [],
   "source": [
    "\n",
    "# Ajout de sousListe1 dans listePrincipale\n",
    "listePrincipale.append (sousListe1)\n",
    "# Demande à l'utilisateur le nombre de sous-liste qu'il souhaite saisir\n",
    "nbSousList = saisieValeur(\"Combien de sous-liste voulez vous saisir ? \")\n",
    "\n",
    "i = 0\n",
    "\n",
    "# Création des sous-liste\n",
    "while i < nbSousList:    \n",
    "    k = 0    \n",
    "    print(\"sous-liste N° \" , i + 1 , \"!\")\n",
    "    # Création de sousListe\n",
    "    sousListe=[]  \n",
    "    i += 1\n",
    "    # Demande à l'utilisateur le nombre de sous-liste qu'il souhaite saisir\n",
    "    nbPaires = saisieValeur(\"Combien de paires voulez vous saisir ? \")    \n",
    "    while k < nbPaires:  \n",
    "        # Saisie des valeurs pour faire les paires\n",
    "        premiereValeur = saisieValeur(\"Saisissez une valeur numérique :\") \n",
    "        deuxiemeValeur = saisieValeur(\"Saisissez une valeur numérique :\") \n",
    "        # Création des paires et insertion de celle-ci dans sousList\n",
    "        sousListe.append ((premiereValeur,deuxiemeValeur))        \n",
    "        k += 1\n",
    "    # Insertion des sous-liste dans listePrincipale\n",
    "    listePrincipale.append(sousListe)"
   ]
  },
  {
   "cell_type": "markdown",
   "id": "ca61297d",
   "metadata": {},
   "source": [
    "Recherche des paires communes à toutes les sous-listes de listePrincipale"
   ]
  },
  {
   "cell_type": "code",
   "execution_count": null,
   "id": "912017e1",
   "metadata": {},
   "outputs": [],
   "source": [
    "# Création de la liste resultantList\n",
    "resultantList = []\n",
    "\n",
    "i=0\n",
    "j=1\n",
    "k=0\n",
    "count = 0\n",
    "   \n",
    "while k < len(listePrincipale[0]):   \n",
    "    element = listePrincipale[0][k]    \n",
    "    while i < len (listePrincipale): \n",
    "        # Comparaison de element avec les sous-listes de listePrincipale\n",
    "        if element in listePrincipale[i]:\n",
    "            # Compte le nombre de fois où element ce trouve dans la sous-listes\n",
    "            count += 1            \n",
    "            i += 1 \n",
    "            # Ajout de element dans resultantList si count = à la taille de listePrincipale\n",
    "            if count == len(listePrincipale):\n",
    "                resultantList.append(element)            \n",
    "        else:            \n",
    "            i += 1      \n",
    "    k += 1\n",
    "    i = 0\n",
    "    count = 0\n",
    "# Affichage des paires comune à toutes les sous-Liste            \n",
    "print(resultantList)"
   ]
  },
  {
   "cell_type": "code",
   "execution_count": null,
   "id": "14de9902",
   "metadata": {},
   "outputs": [],
   "source": []
  }
 ],
 "metadata": {
  "kernelspec": {
   "display_name": "Python 3 (ipykernel)",
   "language": "python",
   "name": "python3"
  },
  "language_info": {
   "codemirror_mode": {
    "name": "ipython",
    "version": 3
   },
   "file_extension": ".py",
   "mimetype": "text/x-python",
   "name": "python",
   "nbconvert_exporter": "python",
   "pygments_lexer": "ipython3",
   "version": "3.11.5"
  }
 },
 "nbformat": 4,
 "nbformat_minor": 5
}
