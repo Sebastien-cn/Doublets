{
 "cells": [
  {
   "cell_type": "markdown",
   "id": "b3aca01d",
   "metadata": {},
   "source": [
    "# TP1 question 1 \n",
    "# Recherche de la deuxième paire la plus grande\n",
    "# Date:18/10/2023\n",
    "# Auteur : Sébastien CNIGNIET  N° étudiant :23001930    "
   ]
  },
  {
   "cell_type": "code",
   "execution_count": 28,
   "id": "2aee2f41",
   "metadata": {},
   "outputs": [],
   "source": [
    "# Fonction pose une question à l'utilisateur\n",
    "def demande(message):  \n",
    "    question = input(message)\n",
    "    return question "
   ]
  },
  {
   "cell_type": "code",
   "execution_count": 29,
   "id": "3fb8023e",
   "metadata": {},
   "outputs": [],
   "source": [
    "# Fonction demande pour ajouter les nombre pour faire les paire  \n",
    "def saisieValeur(message):\n",
    "    try:\n",
    "        question = int(input(message))\n",
    "    except:\n",
    "        print(\"Veuillez saisir une valeur numérique\")\n",
    "        question = int(input(message))\n",
    "    return (question)"
   ]
  },
  {
   "cell_type": "code",
   "execution_count": 30,
   "id": "bbe83d65",
   "metadata": {},
   "outputs": [
    {
     "name": "stdout",
     "output_type": "stream",
     "text": [
      "Souhaitez-vous ajouter une paire [O/N]:O\n",
      "Saisissez la première valeur:1\n",
      "Saisissez la dexième valeur:2\n",
      "Souhaitez-vous ajouter une paire [O/N]:O\n",
      "Saisissez la première valeur:3\n",
      "Saisissez la dexième valeur:1\n",
      "Souhaitez-vous ajouter une paire [O/N]:0\n",
      "Veuillez saisir O pour oui ou N pour non\n",
      "Souhaitez-vous ajouter une paire [O/N]:1\n",
      "Veuillez saisir O pour oui ou N pour non\n",
      "Souhaitez-vous ajouter une paire [O/N]:O\n",
      "Saisissez la première valeur:0\n",
      "Saisissez la dexième valeur:1\n",
      "Souhaitez-vous ajouter une paire [O/N]:o\n",
      "Saisissez la première valeur:3\n",
      "Saisissez la dexième valeur:4\n",
      "Souhaitez-vous ajouter une paire [O/N]:N\n"
     ]
    }
   ],
   "source": [
    "# Création des paires et remplissage de la liste\n",
    "# Création de la liste\n",
    "list = []\n",
    "# Demande à l'utilisateur s'il souhaite ajouter une paire\n",
    "question = demande(\"Souhaitez-vous ajouter une paire [O/N]:\")\n",
    "# Boucle tantque question n'est pas vide \n",
    "while question != None:\n",
    "    # Si question = \"O\" on peut remplir list\n",
    "    if question == 'O' or question == 'o':\n",
    "        # Remplir la list    \n",
    "        # Boucle pour créer les paires et remplir la liste\n",
    "        while question == 'O' or question == 'o':            \n",
    "            # Saisie des valeurs pour faire les paires\n",
    "            premiereValeur = saisieValeur(\"Saisissez la première valeur:\")         \n",
    "            deuxiemeValeur = saisieValeur(\"Saisissez la dexième valeur:\")            \n",
    "            # Création des paire et remplissage de la liste\n",
    "            list.append((premiereValeur,deuxiemeValeur))            \n",
    "            # Demande à l'utilisateur s'il souhaite ajouter une paire\n",
    "            question = demande(\"Souhaitez-vous ajouter une paire [O/N]:\")            \n",
    "            # Verrifie si il y a au minimum 3 paires avant de quitter la saisie\n",
    "            if question == 'N' or question == 'n': \n",
    "                if len(list) < 3:\n",
    "                    print(\"Veuillez saisir au moins 3 paires!\")\n",
    "                    # Demande à l'utilisateur s'il souhaite ajouter une paire\n",
    "                    question = demande(\"Souhaitez-vous ajouter une paire [O/N]:\") \n",
    "            else:\n",
    "                # On continu la boucle\n",
    "                break\n",
    "    # si question = 'N', on verrifie qu'il y a un minimum de 3 paires pour quitter la saisie            \n",
    "    elif question == 'N' or question == 'n':\n",
    "        # Verrifie si il y a au minimum 3 paires avant de quitter la saisie\n",
    "        if len(list) < 3:\n",
    "            print(\"Veuillez saisir au moins 3 paires!\")\n",
    "            # Demande à l'utilisateur s'il souhaite ajouter une paire\n",
    "            question = demande(\"Souhaitez-vous ajouter une paire [O/N]:\")\n",
    "        else:\n",
    "            # on continu la boucle\n",
    "            break\n",
    "    else:\n",
    "        # Vérrifie que question n'est pas différent de 'O' ou 'N'\n",
    "        print(\"Veuillez saisir O pour oui ou N pour non\")\n",
    "        # Demande à l'utilisateur s'il souhaite ajouter une paire\n",
    "        question = demande(\"Souhaitez-vous ajouter une paire [O/N]:\")                "
   ]
  },
  {
   "cell_type": "code",
   "execution_count": 31,
   "id": "c6b7fe76",
   "metadata": {},
   "outputs": [],
   "source": [
    "# Déclaration des varriables\n",
    "k = 0\n",
    "i = 1"
   ]
  },
  {
   "cell_type": "code",
   "execution_count": 32,
   "id": "8b5ed8e6",
   "metadata": {},
   "outputs": [
    {
     "name": "stdout",
     "output_type": "stream",
     "text": [
      "(3, 1)\n"
     ]
    }
   ],
   "source": [
    "# Recherche des paire les plus grandes\n",
    "# Boucle pour le passage sur chaque paire\n",
    "while i <= len(list)-1: \n",
    "    \n",
    "    # Division des paires\n",
    "    x,y = list[k]\n",
    "    z,t = list[i]\n",
    "    # comparaison des deux premières valeur de deux paires\n",
    "    if x < z or x == z and y < t :\n",
    "        # supprime la paires la plus petite dans list\n",
    "        list.remove (list[k])\n",
    "    else:\n",
    "        # supprime la paires la plus petite dans list\n",
    "        list.remove (list[i]) \n",
    "    # incrémentation de 1 de k et de i\n",
    "    k+=1\n",
    "    i+=1 \n",
    "print (min (list))"
   ]
  },
  {
   "cell_type": "code",
   "execution_count": null,
   "id": "4e44f155",
   "metadata": {},
   "outputs": [],
   "source": []
  }
 ],
 "metadata": {
  "kernelspec": {
   "display_name": "Python 3 (ipykernel)",
   "language": "python",
   "name": "python3"
  },
  "language_info": {
   "codemirror_mode": {
    "name": "ipython",
    "version": 3
   },
   "file_extension": ".py",
   "mimetype": "text/x-python",
   "name": "python",
   "nbconvert_exporter": "python",
   "pygments_lexer": "ipython3",
   "version": "3.11.5"
  }
 },
 "nbformat": 4,
 "nbformat_minor": 5
}
